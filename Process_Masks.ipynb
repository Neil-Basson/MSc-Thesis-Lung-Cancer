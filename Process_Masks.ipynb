{
  "nbformat": 4,
  "nbformat_minor": 0,
  "metadata": {
    "colab": {
      "provenance": []
    },
    "kernelspec": {
      "name": "python3",
      "display_name": "Python 3"
    },
    "language_info": {
      "name": "python"
    }
  },
  "cells": [
    {
      "cell_type": "code",
      "execution_count": null,
      "metadata": {
        "id": "4IkTYjmZocf8"
      },
      "outputs": [],
      "source": [
        "import os\n",
        "import numpy as np\n",
        "import pandas as pd\n",
        "from tqdm import tqdm\n",
        "from src.semantic_features import extract_semantic_features\n",
        "from src.mask_utils import crop_mask_contained\n",
        "\n",
        "# === Configuration ===\n",
        "input_csv = 'data/meta_info_classification.csv'\n",
        "mask_base = 'data/Detected/Mask'\n",
        "output_csv = 'outputs/semantic_features.csv'\n",
        "crop_size = 64\n",
        "\n",
        "# === Load DataFrame ===\n",
        "df = pd.read_csv(input_csv)\n",
        "rows = []\n",
        "\n",
        "# === Process Each Mask ===\n",
        "for _, row in tqdm(df.iterrows(), total=len(df)):\n",
        "    mask_rel_path = row['mask_image']\n",
        "    full_path = os.path.join(mask_base, mask_rel_path + '.npy')\n",
        "    patient_id = row['patient_id']\n",
        "    slice_no = row['slice_no']\n",
        "    malignancy = row['malignancy']\n",
        "\n",
        "    try:\n",
        "        mask = np.load(full_path)\n",
        "    except Exception as e:\n",
        "        print(f\"Failed to load: {full_path} ({e})\")\n",
        "        continue\n",
        "\n",
        "    if np.sum(mask) == 0:\n",
        "        continue\n",
        "\n",
        "    cropped_mask = crop_mask_contained(mask, crop_size=crop_size)\n",
        "    features = extract_semantic_features(cropped_mask)\n",
        "\n",
        "    rows.append({\n",
        "        'patient_id': patient_id,\n",
        "        'slice_no': slice_no,\n",
        "        'mask_image': mask_rel_path,\n",
        "        'malignancy': malignancy,\n",
        "        **features\n",
        "    })\n",
        "\n",
        "# === Save Output CSV ===\n",
        "df_out = pd.DataFrame(rows)\n",
        "os.makedirs(os.path.dirname(output_csv), exist_ok=True)\n",
        "df_out.to_csv(output_csv, index=False)\n",
        "print(f\"Saved {len(df_out)} rows to {output_csv}\")\n",
        "\n"
      ]
    }
  ]
}